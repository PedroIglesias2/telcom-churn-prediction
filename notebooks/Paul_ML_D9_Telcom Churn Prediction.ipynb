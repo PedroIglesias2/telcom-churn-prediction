{
 "cells": [
  {
   "cell_type": "markdown",
   "id": "429931f0-acc0-4220-bdb2-83ca09cab478",
   "metadata": {},
   "source": [
    "## Import modules"
   ]
  },
  {
   "cell_type": "code",
   "execution_count": 1,
   "id": "7aa1ccfb-c737-4ace-a9cd-0c25ed1c28cd",
   "metadata": {},
   "outputs": [],
   "source": [
    "import pandas as pd\n",
    "import numpy as np\n",
    "\n",
    "import seaborn as sns \n",
    "import matplotlib.pyplot as plt \n",
    "\n",
    "from sklearn.model_selection import train_test_split\n",
    "\n",
    "from pycaret.classification import *"
   ]
  },
  {
   "cell_type": "code",
   "execution_count": null,
   "id": "986a2bfa-e44e-432b-97d3-d94809f0c226",
   "metadata": {},
   "outputs": [],
   "source": []
  },
  {
   "cell_type": "code",
   "execution_count": 2,
   "id": "3df1197f-e805-40a6-9473-2cfc042433a6",
   "metadata": {},
   "outputs": [],
   "source": [
    "df=pd.read_csv('data/telecom_users.csv') "
   ]
  },
  {
   "cell_type": "code",
   "execution_count": 3,
   "id": "972e59ac-8888-420e-a0c1-6857d96946a9",
   "metadata": {},
   "outputs": [
    {
     "data": {
      "text/html": [
       "<div>\n",
       "<style scoped>\n",
       "    .dataframe tbody tr th:only-of-type {\n",
       "        vertical-align: middle;\n",
       "    }\n",
       "\n",
       "    .dataframe tbody tr th {\n",
       "        vertical-align: top;\n",
       "    }\n",
       "\n",
       "    .dataframe thead th {\n",
       "        text-align: right;\n",
       "    }\n",
       "</style>\n",
       "<table border=\"1\" class=\"dataframe\">\n",
       "  <thead>\n",
       "    <tr style=\"text-align: right;\">\n",
       "      <th></th>\n",
       "      <th>Unnamed: 0</th>\n",
       "      <th>customerID</th>\n",
       "      <th>gender</th>\n",
       "      <th>SeniorCitizen</th>\n",
       "      <th>Partner</th>\n",
       "      <th>Dependents</th>\n",
       "      <th>tenure</th>\n",
       "      <th>PhoneService</th>\n",
       "      <th>MultipleLines</th>\n",
       "      <th>InternetService</th>\n",
       "      <th>...</th>\n",
       "      <th>DeviceProtection</th>\n",
       "      <th>TechSupport</th>\n",
       "      <th>StreamingTV</th>\n",
       "      <th>StreamingMovies</th>\n",
       "      <th>Contract</th>\n",
       "      <th>PaperlessBilling</th>\n",
       "      <th>PaymentMethod</th>\n",
       "      <th>MonthlyCharges</th>\n",
       "      <th>TotalCharges</th>\n",
       "      <th>Churn</th>\n",
       "    </tr>\n",
       "  </thead>\n",
       "  <tbody>\n",
       "    <tr>\n",
       "      <th>0</th>\n",
       "      <td>1869</td>\n",
       "      <td>7010-BRBUU</td>\n",
       "      <td>Male</td>\n",
       "      <td>0</td>\n",
       "      <td>Yes</td>\n",
       "      <td>Yes</td>\n",
       "      <td>72</td>\n",
       "      <td>Yes</td>\n",
       "      <td>Yes</td>\n",
       "      <td>No</td>\n",
       "      <td>...</td>\n",
       "      <td>No internet service</td>\n",
       "      <td>No internet service</td>\n",
       "      <td>No internet service</td>\n",
       "      <td>No internet service</td>\n",
       "      <td>Two year</td>\n",
       "      <td>No</td>\n",
       "      <td>Credit card (automatic)</td>\n",
       "      <td>24.10</td>\n",
       "      <td>1734.65</td>\n",
       "      <td>No</td>\n",
       "    </tr>\n",
       "    <tr>\n",
       "      <th>1</th>\n",
       "      <td>4528</td>\n",
       "      <td>9688-YGXVR</td>\n",
       "      <td>Female</td>\n",
       "      <td>0</td>\n",
       "      <td>No</td>\n",
       "      <td>No</td>\n",
       "      <td>44</td>\n",
       "      <td>Yes</td>\n",
       "      <td>No</td>\n",
       "      <td>Fiber optic</td>\n",
       "      <td>...</td>\n",
       "      <td>Yes</td>\n",
       "      <td>No</td>\n",
       "      <td>Yes</td>\n",
       "      <td>No</td>\n",
       "      <td>Month-to-month</td>\n",
       "      <td>Yes</td>\n",
       "      <td>Credit card (automatic)</td>\n",
       "      <td>88.15</td>\n",
       "      <td>3973.2</td>\n",
       "      <td>No</td>\n",
       "    </tr>\n",
       "    <tr>\n",
       "      <th>2</th>\n",
       "      <td>6344</td>\n",
       "      <td>9286-DOJGF</td>\n",
       "      <td>Female</td>\n",
       "      <td>1</td>\n",
       "      <td>Yes</td>\n",
       "      <td>No</td>\n",
       "      <td>38</td>\n",
       "      <td>Yes</td>\n",
       "      <td>Yes</td>\n",
       "      <td>Fiber optic</td>\n",
       "      <td>...</td>\n",
       "      <td>No</td>\n",
       "      <td>No</td>\n",
       "      <td>No</td>\n",
       "      <td>No</td>\n",
       "      <td>Month-to-month</td>\n",
       "      <td>Yes</td>\n",
       "      <td>Bank transfer (automatic)</td>\n",
       "      <td>74.95</td>\n",
       "      <td>2869.85</td>\n",
       "      <td>Yes</td>\n",
       "    </tr>\n",
       "    <tr>\n",
       "      <th>3</th>\n",
       "      <td>6739</td>\n",
       "      <td>6994-KERXL</td>\n",
       "      <td>Male</td>\n",
       "      <td>0</td>\n",
       "      <td>No</td>\n",
       "      <td>No</td>\n",
       "      <td>4</td>\n",
       "      <td>Yes</td>\n",
       "      <td>No</td>\n",
       "      <td>DSL</td>\n",
       "      <td>...</td>\n",
       "      <td>No</td>\n",
       "      <td>No</td>\n",
       "      <td>No</td>\n",
       "      <td>Yes</td>\n",
       "      <td>Month-to-month</td>\n",
       "      <td>Yes</td>\n",
       "      <td>Electronic check</td>\n",
       "      <td>55.90</td>\n",
       "      <td>238.5</td>\n",
       "      <td>No</td>\n",
       "    </tr>\n",
       "    <tr>\n",
       "      <th>4</th>\n",
       "      <td>432</td>\n",
       "      <td>2181-UAESM</td>\n",
       "      <td>Male</td>\n",
       "      <td>0</td>\n",
       "      <td>No</td>\n",
       "      <td>No</td>\n",
       "      <td>2</td>\n",
       "      <td>Yes</td>\n",
       "      <td>No</td>\n",
       "      <td>DSL</td>\n",
       "      <td>...</td>\n",
       "      <td>Yes</td>\n",
       "      <td>No</td>\n",
       "      <td>No</td>\n",
       "      <td>No</td>\n",
       "      <td>Month-to-month</td>\n",
       "      <td>No</td>\n",
       "      <td>Electronic check</td>\n",
       "      <td>53.45</td>\n",
       "      <td>119.5</td>\n",
       "      <td>No</td>\n",
       "    </tr>\n",
       "  </tbody>\n",
       "</table>\n",
       "<p>5 rows × 22 columns</p>\n",
       "</div>"
      ],
      "text/plain": [
       "   Unnamed: 0  customerID  gender  SeniorCitizen Partner Dependents  tenure  \\\n",
       "0        1869  7010-BRBUU    Male              0     Yes        Yes      72   \n",
       "1        4528  9688-YGXVR  Female              0      No         No      44   \n",
       "2        6344  9286-DOJGF  Female              1     Yes         No      38   \n",
       "3        6739  6994-KERXL    Male              0      No         No       4   \n",
       "4         432  2181-UAESM    Male              0      No         No       2   \n",
       "\n",
       "  PhoneService MultipleLines InternetService  ...     DeviceProtection  \\\n",
       "0          Yes           Yes              No  ...  No internet service   \n",
       "1          Yes            No     Fiber optic  ...                  Yes   \n",
       "2          Yes           Yes     Fiber optic  ...                   No   \n",
       "3          Yes            No             DSL  ...                   No   \n",
       "4          Yes            No             DSL  ...                  Yes   \n",
       "\n",
       "           TechSupport          StreamingTV      StreamingMovies  \\\n",
       "0  No internet service  No internet service  No internet service   \n",
       "1                   No                  Yes                   No   \n",
       "2                   No                   No                   No   \n",
       "3                   No                   No                  Yes   \n",
       "4                   No                   No                   No   \n",
       "\n",
       "         Contract PaperlessBilling              PaymentMethod MonthlyCharges  \\\n",
       "0        Two year               No    Credit card (automatic)          24.10   \n",
       "1  Month-to-month              Yes    Credit card (automatic)          88.15   \n",
       "2  Month-to-month              Yes  Bank transfer (automatic)          74.95   \n",
       "3  Month-to-month              Yes           Electronic check          55.90   \n",
       "4  Month-to-month               No           Electronic check          53.45   \n",
       "\n",
       "  TotalCharges  Churn  \n",
       "0      1734.65     No  \n",
       "1       3973.2     No  \n",
       "2      2869.85    Yes  \n",
       "3        238.5     No  \n",
       "4        119.5     No  \n",
       "\n",
       "[5 rows x 22 columns]"
      ]
     },
     "execution_count": 3,
     "metadata": {},
     "output_type": "execute_result"
    }
   ],
   "source": [
    "df.head()"
   ]
  },
  {
   "cell_type": "code",
   "execution_count": 4,
   "id": "3d0ac8ac-ab12-47dd-9a6a-d080c0d272cc",
   "metadata": {},
   "outputs": [
    {
     "data": {
      "text/plain": [
       "Index(['Unnamed: 0', 'customerID', 'gender', 'SeniorCitizen', 'Partner',\n",
       "       'Dependents', 'tenure', 'PhoneService', 'MultipleLines',\n",
       "       'InternetService', 'OnlineSecurity', 'OnlineBackup', 'DeviceProtection',\n",
       "       'TechSupport', 'StreamingTV', 'StreamingMovies', 'Contract',\n",
       "       'PaperlessBilling', 'PaymentMethod', 'MonthlyCharges', 'TotalCharges',\n",
       "       'Churn'],\n",
       "      dtype='object')"
      ]
     },
     "execution_count": 4,
     "metadata": {},
     "output_type": "execute_result"
    }
   ],
   "source": [
    "df.columns"
   ]
  },
  {
   "cell_type": "markdown",
   "id": "67b3085c-6135-44a2-a25c-4fae59f29adf",
   "metadata": {},
   "source": [
    "## Data Cleaning "
   ]
  },
  {
   "cell_type": "code",
   "execution_count": 5,
   "id": "670e2389-8dab-4643-bcd5-8e382479eab1",
   "metadata": {
    "scrolled": true
   },
   "outputs": [
    {
     "name": "stdout",
     "output_type": "stream",
     "text": [
      "<class 'pandas.core.frame.DataFrame'>\n",
      "RangeIndex: 5986 entries, 0 to 5985\n",
      "Data columns (total 22 columns):\n",
      " #   Column            Non-Null Count  Dtype  \n",
      "---  ------            --------------  -----  \n",
      " 0   Unnamed: 0        5986 non-null   int64  \n",
      " 1   customerID        5986 non-null   object \n",
      " 2   gender            5986 non-null   object \n",
      " 3   SeniorCitizen     5986 non-null   int64  \n",
      " 4   Partner           5986 non-null   object \n",
      " 5   Dependents        5986 non-null   object \n",
      " 6   tenure            5986 non-null   int64  \n",
      " 7   PhoneService      5986 non-null   object \n",
      " 8   MultipleLines     5986 non-null   object \n",
      " 9   InternetService   5986 non-null   object \n",
      " 10  OnlineSecurity    5986 non-null   object \n",
      " 11  OnlineBackup      5986 non-null   object \n",
      " 12  DeviceProtection  5986 non-null   object \n",
      " 13  TechSupport       5986 non-null   object \n",
      " 14  StreamingTV       5986 non-null   object \n",
      " 15  StreamingMovies   5986 non-null   object \n",
      " 16  Contract          5986 non-null   object \n",
      " 17  PaperlessBilling  5986 non-null   object \n",
      " 18  PaymentMethod     5986 non-null   object \n",
      " 19  MonthlyCharges    5986 non-null   float64\n",
      " 20  TotalCharges      5986 non-null   object \n",
      " 21  Churn             5986 non-null   object \n",
      "dtypes: float64(1), int64(3), object(18)\n",
      "memory usage: 1.0+ MB\n"
     ]
    }
   ],
   "source": [
    "df.info()"
   ]
  },
  {
   "cell_type": "code",
   "execution_count": 6,
   "id": "d12d4e50-c35d-4fce-88a0-b8f8ab44346d",
   "metadata": {},
   "outputs": [],
   "source": [
    "# t if there are any errors during conversion (e.g., non-numeric values), they will be replaced with NaN\n",
    "df['TotalCharges'] = pd.to_numeric(df['TotalCharges'], errors='coerce')"
   ]
  },
  {
   "cell_type": "code",
   "execution_count": 7,
   "id": "dab7d973-8379-4485-8830-5650227da87f",
   "metadata": {},
   "outputs": [
    {
     "data": {
      "text/plain": [
       "Unnamed: 0           0\n",
       "customerID           0\n",
       "gender               0\n",
       "SeniorCitizen        0\n",
       "Partner              0\n",
       "Dependents           0\n",
       "tenure               0\n",
       "PhoneService         0\n",
       "MultipleLines        0\n",
       "InternetService      0\n",
       "OnlineSecurity       0\n",
       "OnlineBackup         0\n",
       "DeviceProtection     0\n",
       "TechSupport          0\n",
       "StreamingTV          0\n",
       "StreamingMovies      0\n",
       "Contract             0\n",
       "PaperlessBilling     0\n",
       "PaymentMethod        0\n",
       "MonthlyCharges       0\n",
       "TotalCharges        10\n",
       "Churn                0\n",
       "dtype: int64"
      ]
     },
     "execution_count": 7,
     "metadata": {},
     "output_type": "execute_result"
    }
   ],
   "source": [
    "df.isnull().sum()"
   ]
  },
  {
   "cell_type": "code",
   "execution_count": 8,
   "id": "3b966048-d5b1-41a3-aaee-28a876382207",
   "metadata": {},
   "outputs": [
    {
     "data": {
      "text/plain": [
       "(5986, 22)"
      ]
     },
     "execution_count": 8,
     "metadata": {},
     "output_type": "execute_result"
    }
   ],
   "source": [
    "df.shape"
   ]
  },
  {
   "cell_type": "code",
   "execution_count": 9,
   "id": "12d1dfcc-8953-4557-958c-b60b2b7485cd",
   "metadata": {},
   "outputs": [
    {
     "data": {
      "text/plain": [
       "0"
      ]
     },
     "execution_count": 9,
     "metadata": {},
     "output_type": "execute_result"
    }
   ],
   "source": [
    "df.duplicated().sum()  "
   ]
  },
  {
   "cell_type": "markdown",
   "id": "19e1f8e6-f659-4b57-bc52-bbe819f3fd1f",
   "metadata": {},
   "source": [
    "## Feature Engineering"
   ]
  },
  {
   "cell_type": "code",
   "execution_count": 10,
   "id": "0af24b99-19fd-4d74-bce1-f61a64e5b3c1",
   "metadata": {},
   "outputs": [],
   "source": [
    "# drop columns\n",
    "df_clean=df.drop(columns=['Unnamed: 0', 'customerID'])\n",
    "# drop rows with missing values\n",
    "df_clean.dropna(subset=['TotalCharges'],inplace=True)"
   ]
  },
  {
   "cell_type": "code",
   "execution_count": 11,
   "id": "e43fe5e6-6709-411e-bae7-a0ad259a1ec8",
   "metadata": {},
   "outputs": [
    {
     "data": {
      "text/plain": [
       "(5976, 20)"
      ]
     },
     "execution_count": 11,
     "metadata": {},
     "output_type": "execute_result"
    }
   ],
   "source": [
    "# check shape \n",
    "df_clean.shape"
   ]
  },
  {
   "cell_type": "code",
   "execution_count": 12,
   "id": "1a0c1135-1519-41f8-94fd-90e3ed17426b",
   "metadata": {},
   "outputs": [
    {
     "data": {
      "text/plain": [
       "16"
      ]
     },
     "execution_count": 12,
     "metadata": {},
     "output_type": "execute_result"
    }
   ],
   "source": [
    "#check for duplicates\n",
    "df_clean.duplicated().sum()"
   ]
  },
  {
   "cell_type": "markdown",
   "id": "e78f68a7-9498-40a3-87e9-818f39e141d6",
   "metadata": {},
   "source": [
    "### Correlation Analysis \n"
   ]
  },
  {
   "cell_type": "code",
   "execution_count": 17,
   "id": "390d3efb-f5ed-4189-8bdd-808dd13524eb",
   "metadata": {},
   "outputs": [],
   "source": [
    "df_dummies=df_clean['Churn'].replace(to_replace=['Yes', 'No'], value=[1, 0])\n",
    "# get dummies to plot correlation of featuresabs\n",
    "df_dummies=pd.get_dummies(df_clean)"
   ]
  },
  {
   "cell_type": "code",
   "execution_count": 18,
   "id": "29d48c2e-911b-4f57-80d4-641d94255f5d",
   "metadata": {
    "scrolled": true
   },
   "outputs": [
    {
     "data": {
      "text/plain": [
       "(5976, 46)"
      ]
     },
     "execution_count": 18,
     "metadata": {},
     "output_type": "execute_result"
    }
   ],
   "source": [
    "df_dummies.shape"
   ]
  },
  {
   "cell_type": "code",
   "execution_count": 20,
   "id": "3d9edb54-753a-49a0-a93d-7bf1f5281436",
   "metadata": {},
   "outputs": [
    {
     "data": {
      "image/png": "[encoded data removed]",
      "text/plain": [
       "<Figure size 1500x1000 with 1 Axes>"
      ]
     },
     "metadata": {},
     "output_type": "display_data"
    }
   ],
   "source": [
    "# check correlation\n",
    "plt.figure(figsize=(15,10))\n",
    "\n",
    "# plot the correlation between 'Churn' column and the other columns \n",
    "correlation = df_dummies.drop('Churn', axis=1).corrwith(df_dummies['Churn']).sort_values(ascending=False)\n",
    "correlation.plot(kind='barh')\n",
    "plt.grid()\n",
    "\n",
    "# df_dummies.corr()['Churn'].sort_values(ascending=False).plot(kind='barh')\n",
    "\n",
    "plt.grid()"
   ]
  },
  {
   "cell_type": "markdown",
   "id": "2dd94652-6ede-4030-8e0c-67f5029ed8d1",
   "metadata": {},
   "source": [
    "## Feature Exploration"
   ]
  },
  {
   "cell_type": "markdown",
   "id": "73420f2a-559e-42b4-a5d7-65cdfdc72751",
   "metadata": {},
   "source": [
    "## Modelling\n",
    "\n"
   ]
  },
  {
   "cell_type": "code",
   "execution_count": 22,
   "id": "85b3a77a-dab3-4412-a202-2e15ce9cd76f",
   "metadata": {},
   "outputs": [
    {
     "ename": "NameError",
     "evalue": "name 'X' is not defined",
     "output_type": "error",
     "traceback": [
      "\u001b[0;31m---------------------------------------------------------------------------\u001b[0m",
      "\u001b[0;31mNameError\u001b[0m                                 Traceback (most recent call last)",
      "Cell \u001b[0;32mIn[22], line 1\u001b[0m\n\u001b[0;32m----> 1\u001b[0m \u001b[43mX\u001b[49m\u001b[38;5;241m.\u001b[39minfo()\n",
      "\u001b[0;31mNameError\u001b[0m: name 'X' is not defined"
     ]
    }
   ],
   "source": [
    "X.info()"
   ]
  },
  {
   "cell_type": "code",
   "execution_count": 32,
   "id": "27278f09-3c44-446f-a893-225c78c2bafe",
   "metadata": {},
   "outputs": [
    {
     "data": {
      "text/plain": [
       "gender              0\n",
       "SeniorCitizen       0\n",
       "Partner             0\n",
       "Dependents          0\n",
       "tenure              0\n",
       "PhoneService        0\n",
       "MultipleLines       0\n",
       "InternetService     0\n",
       "OnlineSecurity      0\n",
       "OnlineBackup        0\n",
       "DeviceProtection    0\n",
       "TechSupport         0\n",
       "StreamingTV         0\n",
       "StreamingMovies     0\n",
       "Contract            0\n",
       "PaperlessBilling    0\n",
       "PaymentMethod       0\n",
       "MonthlyCharges      0\n",
       "TotalCharges        0\n",
       "Churn               0\n",
       "dtype: int64"
      ]
     },
     "execution_count": 32,
     "metadata": {},
     "output_type": "execute_result"
    }
   ],
   "source": [
    "df_clean.isnull().sum()"
   ]
  },
  {
   "cell_type": "code",
   "execution_count": 34,
   "id": "d05c5f32-457d-4bb4-9bbd-e71d7c71d919",
   "metadata": {},
   "outputs": [
    {
     "data": {
      "text/plain": [
       "Index(['SeniorCitizen', 'tenure', 'MonthlyCharges', 'TotalCharges', 'Churn',\n",
       "       'gender_Female', 'gender_Male', 'Partner_No', 'Partner_Yes',\n",
       "       'Dependents_No', 'Dependents_Yes', 'PhoneService_No',\n",
       "       'PhoneService_Yes', 'MultipleLines_No',\n",
       "       'MultipleLines_No phone service', 'MultipleLines_Yes',\n",
       "       'InternetService_DSL', 'InternetService_Fiber optic',\n",
       "       'InternetService_No', 'OnlineSecurity_No',\n",
       "       'OnlineSecurity_No internet service', 'OnlineSecurity_Yes',\n",
       "       'OnlineBackup_No', 'OnlineBackup_No internet service',\n",
       "       'OnlineBackup_Yes', 'DeviceProtection_No',\n",
       "       'DeviceProtection_No internet service', 'DeviceProtection_Yes',\n",
       "       'TechSupport_No', 'TechSupport_No internet service', 'TechSupport_Yes',\n",
       "       'StreamingTV_No', 'StreamingTV_No internet service', 'StreamingTV_Yes',\n",
       "       'StreamingMovies_No', 'StreamingMovies_No internet service',\n",
       "       'StreamingMovies_Yes', 'Contract_Month-to-month', 'Contract_One year',\n",
       "       'Contract_Two year', 'PaperlessBilling_No', 'PaperlessBilling_Yes',\n",
       "       'PaymentMethod_Bank transfer (automatic)',\n",
       "       'PaymentMethod_Credit card (automatic)',\n",
       "       'PaymentMethod_Electronic check', 'PaymentMethod_Mailed check'],\n",
       "      dtype='object')"
      ]
     },
     "execution_count": 34,
     "metadata": {},
     "output_type": "execute_result"
    }
   ],
   "source": [
    "df_dummies.columns"
   ]
  },
  {
   "cell_type": "code",
   "execution_count": 35,
   "id": "5a48106a-d4ee-4e5b-8060-408b4b8e7901",
   "metadata": {},
   "outputs": [],
   "source": [
    "# initialise features and target \n",
    "X = df_dummies.drop(columns='Churn')\n",
    "y = df_clean['Churn']"
   ]
  },
  {
   "cell_type": "code",
   "execution_count": 36,
   "id": "9ed051ef-ef3e-4a33-b71f-d63917a60871",
   "metadata": {},
   "outputs": [
    {
     "data": {
      "text/plain": [
       "((4183, 45), (1793, 45), (4183,), (1793,))"
      ]
     },
     "execution_count": 36,
     "metadata": {},
     "output_type": "execute_result"
    }
   ],
   "source": [
    "X_train, X_test, y_train, y_test =  train_test_split(X, y, test_size=0.3, random_state=42, stratify=y)\n",
    "X_train.shape, X_test.shape, y_train.shape, y_test.shape"
   ]
  },
  {
   "cell_type": "code",
   "execution_count": 37,
   "id": "d6656a70-9042-4b07-81af-647f7e3f37d8",
   "metadata": {},
   "outputs": [
    {
     "data": {
      "text/html": [
       "<style type=\"text/css\">\n",
       "#T_c2f1c_row8_col1 {\n",
       "  background-color: lightgreen;\n",
       "}\n",
       "</style>\n",
       "<table id=\"T_c2f1c\">\n",
       "  <thead>\n",
       "    <tr>\n",
       "      <th class=\"blank level0\" >&nbsp;</th>\n",
       "      <th id=\"T_c2f1c_level0_col0\" class=\"col_heading level0 col0\" >Description</th>\n",
       "      <th id=\"T_c2f1c_level0_col1\" class=\"col_heading level0 col1\" >Value</th>\n",
       "    </tr>\n",
       "  </thead>\n",
       "  <tbody>\n",
       "    <tr>\n",
       "      <th id=\"T_c2f1c_level0_row0\" class=\"row_heading level0 row0\" >0</th>\n",
       "      <td id=\"T_c2f1c_row0_col0\" class=\"data row0 col0\" >Session id</td>\n",
       "      <td id=\"T_c2f1c_row0_col1\" class=\"data row0 col1\" >42</td>\n",
       "    </tr>\n",
       "    <tr>\n",
       "      <th id=\"T_c2f1c_level0_row1\" class=\"row_heading level0 row1\" >1</th>\n",
       "      <td id=\"T_c2f1c_row1_col0\" class=\"data row1 col0\" >Target</td>\n",
       "      <td id=\"T_c2f1c_row1_col1\" class=\"data row1 col1\" >Churn</td>\n",
       "    </tr>\n",
       "    <tr>\n",
       "      <th id=\"T_c2f1c_level0_row2\" class=\"row_heading level0 row2\" >2</th>\n",
       "      <td id=\"T_c2f1c_row2_col0\" class=\"data row2 col0\" >Target type</td>\n",
       "      <td id=\"T_c2f1c_row2_col1\" class=\"data row2 col1\" >Binary</td>\n",
       "    </tr>\n",
       "    <tr>\n",
       "      <th id=\"T_c2f1c_level0_row3\" class=\"row_heading level0 row3\" >3</th>\n",
       "      <td id=\"T_c2f1c_row3_col0\" class=\"data row3 col0\" >Original data shape</td>\n",
       "      <td id=\"T_c2f1c_row3_col1\" class=\"data row3 col1\" >(5976, 46)</td>\n",
       "    </tr>\n",
       "    <tr>\n",
       "      <th id=\"T_c2f1c_level0_row4\" class=\"row_heading level0 row4\" >4</th>\n",
       "      <td id=\"T_c2f1c_row4_col0\" class=\"data row4 col0\" >Transformed data shape</td>\n",
       "      <td id=\"T_c2f1c_row4_col1\" class=\"data row4 col1\" >(5976, 46)</td>\n",
       "    </tr>\n",
       "    <tr>\n",
       "      <th id=\"T_c2f1c_level0_row5\" class=\"row_heading level0 row5\" >5</th>\n",
       "      <td id=\"T_c2f1c_row5_col0\" class=\"data row5 col0\" >Transformed train set shape</td>\n",
       "      <td id=\"T_c2f1c_row5_col1\" class=\"data row5 col1\" >(4183, 46)</td>\n",
       "    </tr>\n",
       "    <tr>\n",
       "      <th id=\"T_c2f1c_level0_row6\" class=\"row_heading level0 row6\" >6</th>\n",
       "      <td id=\"T_c2f1c_row6_col0\" class=\"data row6 col0\" >Transformed test set shape</td>\n",
       "      <td id=\"T_c2f1c_row6_col1\" class=\"data row6 col1\" >(1793, 46)</td>\n",
       "    </tr>\n",
       "    <tr>\n",
       "      <th id=\"T_c2f1c_level0_row7\" class=\"row_heading level0 row7\" >7</th>\n",
       "      <td id=\"T_c2f1c_row7_col0\" class=\"data row7 col0\" >Numeric features</td>\n",
       "      <td id=\"T_c2f1c_row7_col1\" class=\"data row7 col1\" >45</td>\n",
       "    </tr>\n",
       "    <tr>\n",
       "      <th id=\"T_c2f1c_level0_row8\" class=\"row_heading level0 row8\" >8</th>\n",
       "      <td id=\"T_c2f1c_row8_col0\" class=\"data row8 col0\" >Preprocess</td>\n",
       "      <td id=\"T_c2f1c_row8_col1\" class=\"data row8 col1\" >True</td>\n",
       "    </tr>\n",
       "    <tr>\n",
       "      <th id=\"T_c2f1c_level0_row9\" class=\"row_heading level0 row9\" >9</th>\n",
       "      <td id=\"T_c2f1c_row9_col0\" class=\"data row9 col0\" >Imputation type</td>\n",
       "      <td id=\"T_c2f1c_row9_col1\" class=\"data row9 col1\" >simple</td>\n",
       "    </tr>\n",
       "    <tr>\n",
       "      <th id=\"T_c2f1c_level0_row10\" class=\"row_heading level0 row10\" >10</th>\n",
       "      <td id=\"T_c2f1c_row10_col0\" class=\"data row10 col0\" >Numeric imputation</td>\n",
       "      <td id=\"T_c2f1c_row10_col1\" class=\"data row10 col1\" >mean</td>\n",
       "    </tr>\n",
       "    <tr>\n",
       "      <th id=\"T_c2f1c_level0_row11\" class=\"row_heading level0 row11\" >11</th>\n",
       "      <td id=\"T_c2f1c_row11_col0\" class=\"data row11 col0\" >Categorical imputation</td>\n",
       "      <td id=\"T_c2f1c_row11_col1\" class=\"data row11 col1\" >mode</td>\n",
       "    </tr>\n",
       "    <tr>\n",
       "      <th id=\"T_c2f1c_level0_row12\" class=\"row_heading level0 row12\" >12</th>\n",
       "      <td id=\"T_c2f1c_row12_col0\" class=\"data row12 col0\" >Fold Generator</td>\n",
       "      <td id=\"T_c2f1c_row12_col1\" class=\"data row12 col1\" >StratifiedKFold</td>\n",
       "    </tr>\n",
       "    <tr>\n",
       "      <th id=\"T_c2f1c_level0_row13\" class=\"row_heading level0 row13\" >13</th>\n",
       "      <td id=\"T_c2f1c_row13_col0\" class=\"data row13 col0\" >Fold Number</td>\n",
       "      <td id=\"T_c2f1c_row13_col1\" class=\"data row13 col1\" >10</td>\n",
       "    </tr>\n",
       "    <tr>\n",
       "      <th id=\"T_c2f1c_level0_row14\" class=\"row_heading level0 row14\" >14</th>\n",
       "      <td id=\"T_c2f1c_row14_col0\" class=\"data row14 col0\" >CPU Jobs</td>\n",
       "      <td id=\"T_c2f1c_row14_col1\" class=\"data row14 col1\" >-1</td>\n",
       "    </tr>\n",
       "    <tr>\n",
       "      <th id=\"T_c2f1c_level0_row15\" class=\"row_heading level0 row15\" >15</th>\n",
       "      <td id=\"T_c2f1c_row15_col0\" class=\"data row15 col0\" >Use GPU</td>\n",
       "      <td id=\"T_c2f1c_row15_col1\" class=\"data row15 col1\" >False</td>\n",
       "    </tr>\n",
       "    <tr>\n",
       "      <th id=\"T_c2f1c_level0_row16\" class=\"row_heading level0 row16\" >16</th>\n",
       "      <td id=\"T_c2f1c_row16_col0\" class=\"data row16 col0\" >Log Experiment</td>\n",
       "      <td id=\"T_c2f1c_row16_col1\" class=\"data row16 col1\" >False</td>\n",
       "    </tr>\n",
       "    <tr>\n",
       "      <th id=\"T_c2f1c_level0_row17\" class=\"row_heading level0 row17\" >17</th>\n",
       "      <td id=\"T_c2f1c_row17_col0\" class=\"data row17 col0\" >Experiment Name</td>\n",
       "      <td id=\"T_c2f1c_row17_col1\" class=\"data row17 col1\" >clf-default-name</td>\n",
       "    </tr>\n",
       "    <tr>\n",
       "      <th id=\"T_c2f1c_level0_row18\" class=\"row_heading level0 row18\" >18</th>\n",
       "      <td id=\"T_c2f1c_row18_col0\" class=\"data row18 col0\" >USI</td>\n",
       "      <td id=\"T_c2f1c_row18_col1\" class=\"data row18 col1\" >faf0</td>\n",
       "    </tr>\n",
       "  </tbody>\n",
       "</table>\n"
      ],
      "text/plain": [
       "<pandas.io.formats.style.Styler at 0x7fe8f1534ac0>"
      ]
     },
     "metadata": {},
     "output_type": "display_data"
    }
   ],
   "source": [
    "clf = setup(data=pd.concat([X_train, y_train], axis=1),\n",
    "            target = 'Churn',\n",
    "            session_id=42,\n",
    "            #normalize=True,\n",
    "            test_data=pd.concat([X_test, y_test], axis=1),\n",
    "            n_jobs=-1)"
   ]
  },
  {
   "cell_type": "code",
   "execution_count": 29,
   "id": "238de845-9e92-4eb9-abf9-a88f64a53f02",
   "metadata": {},
   "outputs": [
    {
     "data": {
      "text/html": [],
      "text/plain": [
       "<IPython.core.display.HTML object>"
      ]
     },
     "metadata": {},
     "output_type": "display_data"
    },
    {
     "data": {
      "text/html": [
       "<style type=\"text/css\">\n",
       "#T_aca62 th {\n",
       "  text-align: left;\n",
       "}\n",
       "#T_aca62_row0_col0, #T_aca62_row0_col1, #T_aca62_row0_col2, #T_aca62_row0_col4, #T_aca62_row0_col6, #T_aca62_row0_col7, #T_aca62_row1_col0, #T_aca62_row1_col2, #T_aca62_row1_col3, #T_aca62_row1_col4, #T_aca62_row1_col5, #T_aca62_row2_col0, #T_aca62_row2_col1, #T_aca62_row2_col2, #T_aca62_row2_col3, #T_aca62_row2_col4, #T_aca62_row2_col5, #T_aca62_row2_col6, #T_aca62_row2_col7, #T_aca62_row3_col0, #T_aca62_row3_col1, #T_aca62_row3_col3, #T_aca62_row3_col4, #T_aca62_row3_col5, #T_aca62_row3_col6, #T_aca62_row3_col7, #T_aca62_row4_col0, #T_aca62_row4_col1, #T_aca62_row4_col2, #T_aca62_row4_col3, #T_aca62_row4_col4, #T_aca62_row4_col5, #T_aca62_row4_col6, #T_aca62_row4_col7, #T_aca62_row5_col0, #T_aca62_row5_col1, #T_aca62_row5_col2, #T_aca62_row5_col3, #T_aca62_row5_col5, #T_aca62_row5_col6, #T_aca62_row5_col7, #T_aca62_row6_col0, #T_aca62_row6_col1, #T_aca62_row6_col2, #T_aca62_row6_col3, #T_aca62_row6_col4, #T_aca62_row6_col5, #T_aca62_row6_col6, #T_aca62_row6_col7, #T_aca62_row7_col0, #T_aca62_row7_col1, #T_aca62_row7_col2, #T_aca62_row7_col3, #T_aca62_row7_col4, #T_aca62_row7_col5, #T_aca62_row7_col6, #T_aca62_row7_col7, #T_aca62_row8_col0, #T_aca62_row8_col1, #T_aca62_row8_col2, #T_aca62_row8_col3, #T_aca62_row8_col4, #T_aca62_row8_col5, #T_aca62_row8_col6, #T_aca62_row8_col7, #T_aca62_row9_col0, #T_aca62_row9_col1, #T_aca62_row9_col2, #T_aca62_row9_col3, #T_aca62_row9_col4, #T_aca62_row9_col5, #T_aca62_row9_col6, #T_aca62_row9_col7, #T_aca62_row10_col0, #T_aca62_row10_col1, #T_aca62_row10_col2, #T_aca62_row10_col3, #T_aca62_row10_col4, #T_aca62_row10_col5, #T_aca62_row10_col6, #T_aca62_row10_col7, #T_aca62_row11_col0, #T_aca62_row11_col1, #T_aca62_row11_col2, #T_aca62_row11_col3, #T_aca62_row11_col4, #T_aca62_row11_col5, #T_aca62_row11_col6, #T_aca62_row11_col7, #T_aca62_row12_col0, #T_aca62_row12_col1, #T_aca62_row12_col2, #T_aca62_row12_col3, #T_aca62_row12_col4, #T_aca62_row12_col5, #T_aca62_row12_col6, #T_aca62_row12_col7, #T_aca62_row13_col0, #T_aca62_row13_col1, #T_aca62_row13_col2, #T_aca62_row13_col3, #T_aca62_row13_col4, #T_aca62_row13_col5, #T_aca62_row13_col6, #T_aca62_row13_col7 {\n",
       "  text-align: left;\n",
       "}\n",
       "#T_aca62_row0_col3, #T_aca62_row0_col5, #T_aca62_row1_col1, #T_aca62_row1_col6, #T_aca62_row1_col7, #T_aca62_row3_col2, #T_aca62_row5_col4 {\n",
       "  text-align: left;\n",
       "  background-color: yellow;\n",
       "}\n",
       "#T_aca62_row0_col8, #T_aca62_row1_col8, #T_aca62_row3_col8, #T_aca62_row5_col8, #T_aca62_row6_col8, #T_aca62_row7_col8, #T_aca62_row8_col8, #T_aca62_row9_col8, #T_aca62_row10_col8, #T_aca62_row11_col8, #T_aca62_row12_col8, #T_aca62_row13_col8 {\n",
       "  text-align: left;\n",
       "  background-color: lightgrey;\n",
       "}\n",
       "#T_aca62_row2_col8, #T_aca62_row4_col8 {\n",
       "  text-align: left;\n",
       "  background-color: yellow;\n",
       "  background-color: lightgrey;\n",
       "}\n",
       "</style>\n",
       "<table id=\"T_aca62\">\n",
       "  <thead>\n",
       "    <tr>\n",
       "      <th class=\"blank level0\" >&nbsp;</th>\n",
       "      <th id=\"T_aca62_level0_col0\" class=\"col_heading level0 col0\" >Model</th>\n",
       "      <th id=\"T_aca62_level0_col1\" class=\"col_heading level0 col1\" >Accuracy</th>\n",
       "      <th id=\"T_aca62_level0_col2\" class=\"col_heading level0 col2\" >AUC</th>\n",
       "      <th id=\"T_aca62_level0_col3\" class=\"col_heading level0 col3\" >Recall</th>\n",
       "      <th id=\"T_aca62_level0_col4\" class=\"col_heading level0 col4\" >Prec.</th>\n",
       "      <th id=\"T_aca62_level0_col5\" class=\"col_heading level0 col5\" >F1</th>\n",
       "      <th id=\"T_aca62_level0_col6\" class=\"col_heading level0 col6\" >Kappa</th>\n",
       "      <th id=\"T_aca62_level0_col7\" class=\"col_heading level0 col7\" >MCC</th>\n",
       "      <th id=\"T_aca62_level0_col8\" class=\"col_heading level0 col8\" >TT (Sec)</th>\n",
       "    </tr>\n",
       "  </thead>\n",
       "  <tbody>\n",
       "    <tr>\n",
       "      <th id=\"T_aca62_level0_row0\" class=\"row_heading level0 row0\" >nb</th>\n",
       "      <td id=\"T_aca62_row0_col0\" class=\"data row0 col0\" >Naive Bayes</td>\n",
       "      <td id=\"T_aca62_row0_col1\" class=\"data row0 col1\" >0.6907</td>\n",
       "      <td id=\"T_aca62_row0_col2\" class=\"data row0 col2\" >0.8134</td>\n",
       "      <td id=\"T_aca62_row0_col3\" class=\"data row0 col3\" >0.8452</td>\n",
       "      <td id=\"T_aca62_row0_col4\" class=\"data row0 col4\" >0.4557</td>\n",
       "      <td id=\"T_aca62_row0_col5\" class=\"data row0 col5\" >0.5921</td>\n",
       "      <td id=\"T_aca62_row0_col6\" class=\"data row0 col6\" >0.3771</td>\n",
       "      <td id=\"T_aca62_row0_col7\" class=\"data row0 col7\" >0.4240</td>\n",
       "      <td id=\"T_aca62_row0_col8\" class=\"data row0 col8\" >0.6767</td>\n",
       "    </tr>\n",
       "    <tr>\n",
       "      <th id=\"T_aca62_level0_row1\" class=\"row_heading level0 row1\" >lr</th>\n",
       "      <td id=\"T_aca62_row1_col0\" class=\"data row1 col0\" >Logistic Regression</td>\n",
       "      <td id=\"T_aca62_row1_col1\" class=\"data row1 col1\" >0.8018</td>\n",
       "      <td id=\"T_aca62_row1_col2\" class=\"data row1 col2\" >0.8383</td>\n",
       "      <td id=\"T_aca62_row1_col3\" class=\"data row1 col3\" >0.5356</td>\n",
       "      <td id=\"T_aca62_row1_col4\" class=\"data row1 col4\" >0.6550</td>\n",
       "      <td id=\"T_aca62_row1_col5\" class=\"data row1 col5\" >0.5892</td>\n",
       "      <td id=\"T_aca62_row1_col6\" class=\"data row1 col6\" >0.4604</td>\n",
       "      <td id=\"T_aca62_row1_col7\" class=\"data row1 col7\" >0.4645</td>\n",
       "      <td id=\"T_aca62_row1_col8\" class=\"data row1 col8\" >1.1500</td>\n",
       "    </tr>\n",
       "    <tr>\n",
       "      <th id=\"T_aca62_level0_row2\" class=\"row_heading level0 row2\" >lda</th>\n",
       "      <td id=\"T_aca62_row2_col0\" class=\"data row2 col0\" >Linear Discriminant Analysis</td>\n",
       "      <td id=\"T_aca62_row2_col1\" class=\"data row2 col1\" >0.7956</td>\n",
       "      <td id=\"T_aca62_row2_col2\" class=\"data row2 col2\" >0.8323</td>\n",
       "      <td id=\"T_aca62_row2_col3\" class=\"data row2 col3\" >0.5464</td>\n",
       "      <td id=\"T_aca62_row2_col4\" class=\"data row2 col4\" >0.6335</td>\n",
       "      <td id=\"T_aca62_row2_col5\" class=\"data row2 col5\" >0.5866</td>\n",
       "      <td id=\"T_aca62_row2_col6\" class=\"data row2 col6\" >0.4518</td>\n",
       "      <td id=\"T_aca62_row2_col7\" class=\"data row2 col7\" >0.4541</td>\n",
       "      <td id=\"T_aca62_row2_col8\" class=\"data row2 col8\" >0.1367</td>\n",
       "    </tr>\n",
       "    <tr>\n",
       "      <th id=\"T_aca62_level0_row3\" class=\"row_heading level0 row3\" >ada</th>\n",
       "      <td id=\"T_aca62_row3_col0\" class=\"data row3 col0\" >Ada Boost Classifier</td>\n",
       "      <td id=\"T_aca62_row3_col1\" class=\"data row3 col1\" >0.7985</td>\n",
       "      <td id=\"T_aca62_row3_col2\" class=\"data row3 col2\" >0.8401</td>\n",
       "      <td id=\"T_aca62_row3_col3\" class=\"data row3 col3\" >0.5203</td>\n",
       "      <td id=\"T_aca62_row3_col4\" class=\"data row3 col4\" >0.6509</td>\n",
       "      <td id=\"T_aca62_row3_col5\" class=\"data row3 col5\" >0.5783</td>\n",
       "      <td id=\"T_aca62_row3_col6\" class=\"data row3 col6\" >0.4480</td>\n",
       "      <td id=\"T_aca62_row3_col7\" class=\"data row3 col7\" >0.4529</td>\n",
       "      <td id=\"T_aca62_row3_col8\" class=\"data row3 col8\" >0.2133</td>\n",
       "    </tr>\n",
       "    <tr>\n",
       "      <th id=\"T_aca62_level0_row4\" class=\"row_heading level0 row4\" >qda</th>\n",
       "      <td id=\"T_aca62_row4_col0\" class=\"data row4 col0\" >Quadratic Discriminant Analysis</td>\n",
       "      <td id=\"T_aca62_row4_col1\" class=\"data row4 col1\" >0.6577</td>\n",
       "      <td id=\"T_aca62_row4_col2\" class=\"data row4 col2\" >0.8148</td>\n",
       "      <td id=\"T_aca62_row4_col3\" class=\"data row4 col3\" >0.8406</td>\n",
       "      <td id=\"T_aca62_row4_col4\" class=\"data row4 col4\" >0.4285</td>\n",
       "      <td id=\"T_aca62_row4_col5\" class=\"data row4 col5\" >0.5665</td>\n",
       "      <td id=\"T_aca62_row4_col6\" class=\"data row4 col6\" >0.3310</td>\n",
       "      <td id=\"T_aca62_row4_col7\" class=\"data row4 col7\" >0.3841</td>\n",
       "      <td id=\"T_aca62_row4_col8\" class=\"data row4 col8\" >0.1367</td>\n",
       "    </tr>\n",
       "    <tr>\n",
       "      <th id=\"T_aca62_level0_row5\" class=\"row_heading level0 row5\" >ridge</th>\n",
       "      <td id=\"T_aca62_row5_col0\" class=\"data row5 col0\" >Ridge Classifier</td>\n",
       "      <td id=\"T_aca62_row5_col1\" class=\"data row5 col1\" >0.7980</td>\n",
       "      <td id=\"T_aca62_row5_col2\" class=\"data row5 col2\" >0.0000</td>\n",
       "      <td id=\"T_aca62_row5_col3\" class=\"data row5 col3\" >0.4969</td>\n",
       "      <td id=\"T_aca62_row5_col4\" class=\"data row5 col4\" >0.6585</td>\n",
       "      <td id=\"T_aca62_row5_col5\" class=\"data row5 col5\" >0.5663</td>\n",
       "      <td id=\"T_aca62_row5_col6\" class=\"data row5 col6\" >0.4380</td>\n",
       "      <td id=\"T_aca62_row5_col7\" class=\"data row5 col7\" >0.4454</td>\n",
       "      <td id=\"T_aca62_row5_col8\" class=\"data row5 col8\" >0.6367</td>\n",
       "    </tr>\n",
       "    <tr>\n",
       "      <th id=\"T_aca62_level0_row6\" class=\"row_heading level0 row6\" >gbc</th>\n",
       "      <td id=\"T_aca62_row6_col0\" class=\"data row6 col0\" >Gradient Boosting Classifier</td>\n",
       "      <td id=\"T_aca62_row6_col1\" class=\"data row6 col1\" >0.7958</td>\n",
       "      <td id=\"T_aca62_row6_col2\" class=\"data row6 col2\" >0.8378</td>\n",
       "      <td id=\"T_aca62_row6_col3\" class=\"data row6 col3\" >0.4996</td>\n",
       "      <td id=\"T_aca62_row6_col4\" class=\"data row6 col4\" >0.6510</td>\n",
       "      <td id=\"T_aca62_row6_col5\" class=\"data row6 col5\" >0.5649</td>\n",
       "      <td id=\"T_aca62_row6_col6\" class=\"data row6 col6\" >0.4346</td>\n",
       "      <td id=\"T_aca62_row6_col7\" class=\"data row6 col7\" >0.4413</td>\n",
       "      <td id=\"T_aca62_row6_col8\" class=\"data row6 col8\" >0.3033</td>\n",
       "    </tr>\n",
       "    <tr>\n",
       "      <th id=\"T_aca62_level0_row7\" class=\"row_heading level0 row7\" >lightgbm</th>\n",
       "      <td id=\"T_aca62_row7_col0\" class=\"data row7 col0\" >Light Gradient Boosting Machine</td>\n",
       "      <td id=\"T_aca62_row7_col1\" class=\"data row7 col1\" >0.7853</td>\n",
       "      <td id=\"T_aca62_row7_col2\" class=\"data row7 col2\" >0.8195</td>\n",
       "      <td id=\"T_aca62_row7_col3\" class=\"data row7 col3\" >0.5086</td>\n",
       "      <td id=\"T_aca62_row7_col4\" class=\"data row7 col4\" >0.6159</td>\n",
       "      <td id=\"T_aca62_row7_col5\" class=\"data row7 col5\" >0.5568</td>\n",
       "      <td id=\"T_aca62_row7_col6\" class=\"data row7 col6\" >0.4169</td>\n",
       "      <td id=\"T_aca62_row7_col7\" class=\"data row7 col7\" >0.4205</td>\n",
       "      <td id=\"T_aca62_row7_col8\" class=\"data row7 col8\" >1.1133</td>\n",
       "    </tr>\n",
       "    <tr>\n",
       "      <th id=\"T_aca62_level0_row8\" class=\"row_heading level0 row8\" >svm</th>\n",
       "      <td id=\"T_aca62_row8_col0\" class=\"data row8 col0\" >SVM - Linear Kernel</td>\n",
       "      <td id=\"T_aca62_row8_col1\" class=\"data row8 col1\" >0.7707</td>\n",
       "      <td id=\"T_aca62_row8_col2\" class=\"data row8 col2\" >0.0000</td>\n",
       "      <td id=\"T_aca62_row8_col3\" class=\"data row8 col3\" >0.5049</td>\n",
       "      <td id=\"T_aca62_row8_col4\" class=\"data row8 col4\" >0.5825</td>\n",
       "      <td id=\"T_aca62_row8_col5\" class=\"data row8 col5\" >0.5376</td>\n",
       "      <td id=\"T_aca62_row8_col6\" class=\"data row8 col6\" >0.3870</td>\n",
       "      <td id=\"T_aca62_row8_col7\" class=\"data row8 col7\" >0.3907</td>\n",
       "      <td id=\"T_aca62_row8_col8\" class=\"data row8 col8\" >0.1400</td>\n",
       "    </tr>\n",
       "    <tr>\n",
       "      <th id=\"T_aca62_level0_row9\" class=\"row_heading level0 row9\" >rf</th>\n",
       "      <td id=\"T_aca62_row9_col0\" class=\"data row9 col0\" >Random Forest Classifier</td>\n",
       "      <td id=\"T_aca62_row9_col1\" class=\"data row9 col1\" >0.7803</td>\n",
       "      <td id=\"T_aca62_row9_col2\" class=\"data row9 col2\" >0.8111</td>\n",
       "      <td id=\"T_aca62_row9_col3\" class=\"data row9 col3\" >0.4690</td>\n",
       "      <td id=\"T_aca62_row9_col4\" class=\"data row9 col4\" >0.6130</td>\n",
       "      <td id=\"T_aca62_row9_col5\" class=\"data row9 col5\" >0.5311</td>\n",
       "      <td id=\"T_aca62_row9_col6\" class=\"data row9 col6\" >0.3911</td>\n",
       "      <td id=\"T_aca62_row9_col7\" class=\"data row9 col7\" >0.3972</td>\n",
       "      <td id=\"T_aca62_row9_col8\" class=\"data row9 col8\" >0.2667</td>\n",
       "    </tr>\n",
       "    <tr>\n",
       "      <th id=\"T_aca62_level0_row10\" class=\"row_heading level0 row10\" >et</th>\n",
       "      <td id=\"T_aca62_row10_col0\" class=\"data row10 col0\" >Extra Trees Classifier</td>\n",
       "      <td id=\"T_aca62_row10_col1\" class=\"data row10 col1\" >0.7631</td>\n",
       "      <td id=\"T_aca62_row10_col2\" class=\"data row10 col2\" >0.7821</td>\n",
       "      <td id=\"T_aca62_row10_col3\" class=\"data row10 col3\" >0.4645</td>\n",
       "      <td id=\"T_aca62_row10_col4\" class=\"data row10 col4\" >0.5655</td>\n",
       "      <td id=\"T_aca62_row10_col5\" class=\"data row10 col5\" >0.5099</td>\n",
       "      <td id=\"T_aca62_row10_col6\" class=\"data row10 col6\" >0.3557</td>\n",
       "      <td id=\"T_aca62_row10_col7\" class=\"data row10 col7\" >0.3588</td>\n",
       "      <td id=\"T_aca62_row10_col8\" class=\"data row10 col8\" >0.3033</td>\n",
       "    </tr>\n",
       "    <tr>\n",
       "      <th id=\"T_aca62_level0_row11\" class=\"row_heading level0 row11\" >knn</th>\n",
       "      <td id=\"T_aca62_row11_col0\" class=\"data row11 col0\" >K Neighbors Classifier</td>\n",
       "      <td id=\"T_aca62_row11_col1\" class=\"data row11 col1\" >0.7679</td>\n",
       "      <td id=\"T_aca62_row11_col2\" class=\"data row11 col2\" >0.7378</td>\n",
       "      <td id=\"T_aca62_row11_col3\" class=\"data row11 col3\" >0.4285</td>\n",
       "      <td id=\"T_aca62_row11_col4\" class=\"data row11 col4\" >0.5865</td>\n",
       "      <td id=\"T_aca62_row11_col5\" class=\"data row11 col5\" >0.4949</td>\n",
       "      <td id=\"T_aca62_row11_col6\" class=\"data row11 col6\" >0.3490</td>\n",
       "      <td id=\"T_aca62_row11_col7\" class=\"data row11 col7\" >0.3564</td>\n",
       "      <td id=\"T_aca62_row11_col8\" class=\"data row11 col8\" >0.6900</td>\n",
       "    </tr>\n",
       "    <tr>\n",
       "      <th id=\"T_aca62_level0_row12\" class=\"row_heading level0 row12\" >dt</th>\n",
       "      <td id=\"T_aca62_row12_col0\" class=\"data row12 col0\" >Decision Tree Classifier</td>\n",
       "      <td id=\"T_aca62_row12_col1\" class=\"data row12 col1\" >0.7241</td>\n",
       "      <td id=\"T_aca62_row12_col2\" class=\"data row12 col2\" >0.6473</td>\n",
       "      <td id=\"T_aca62_row12_col3\" class=\"data row12 col3\" >0.4816</td>\n",
       "      <td id=\"T_aca62_row12_col4\" class=\"data row12 col4\" >0.4810</td>\n",
       "      <td id=\"T_aca62_row12_col5\" class=\"data row12 col5\" >0.4808</td>\n",
       "      <td id=\"T_aca62_row12_col6\" class=\"data row12 col6\" >0.2931</td>\n",
       "      <td id=\"T_aca62_row12_col7\" class=\"data row12 col7\" >0.2934</td>\n",
       "      <td id=\"T_aca62_row12_col8\" class=\"data row12 col8\" >0.7433</td>\n",
       "    </tr>\n",
       "    <tr>\n",
       "      <th id=\"T_aca62_level0_row13\" class=\"row_heading level0 row13\" >dummy</th>\n",
       "      <td id=\"T_aca62_row13_col0\" class=\"data row13 col0\" >Dummy Classifier</td>\n",
       "      <td id=\"T_aca62_row13_col1\" class=\"data row13 col1\" >0.7344</td>\n",
       "      <td id=\"T_aca62_row13_col2\" class=\"data row13 col2\" >0.5000</td>\n",
       "      <td id=\"T_aca62_row13_col3\" class=\"data row13 col3\" >0.0000</td>\n",
       "      <td id=\"T_aca62_row13_col4\" class=\"data row13 col4\" >0.0000</td>\n",
       "      <td id=\"T_aca62_row13_col5\" class=\"data row13 col5\" >0.0000</td>\n",
       "      <td id=\"T_aca62_row13_col6\" class=\"data row13 col6\" >0.0000</td>\n",
       "      <td id=\"T_aca62_row13_col7\" class=\"data row13 col7\" >0.0000</td>\n",
       "      <td id=\"T_aca62_row13_col8\" class=\"data row13 col8\" >0.1400</td>\n",
       "    </tr>\n",
       "  </tbody>\n",
       "</table>\n"
      ],
      "text/plain": [
       "<pandas.io.formats.style.Styler at 0x7fb3fff61570>"
      ]
     },
     "metadata": {},
     "output_type": "display_data"
    },
    {
     "data": {
      "text/html": [],
      "text/plain": [
       "<IPython.core.display.HTML object>"
      ]
     },
     "metadata": {},
     "output_type": "display_data"
    },
    {
     "data": {
      "text/html": [
       "<style>#sk-container-id-1 {color: black;background-color: white;}#sk-container-id-1 pre{padding: 0;}#sk-container-id-1 div.sk-toggleable {background-color: white;}#sk-container-id-1 label.sk-toggleable__label {cursor: pointer;display: block;width: 100%;margin-bottom: 0;padding: 0.3em;box-sizing: border-box;text-align: center;}#sk-container-id-1 label.sk-toggleable__label-arrow:before {content: \"▸\";float: left;margin-right: 0.25em;color: #696969;}#sk-container-id-1 label.sk-toggleable__label-arrow:hover:before {color: black;}#sk-container-id-1 div.sk-estimator:hover label.sk-toggleable__label-arrow:before {color: black;}#sk-container-id-1 div.sk-toggleable__content {max-height: 0;max-width: 0;overflow: hidden;text-align: left;background-color: #f0f8ff;}#sk-container-id-1 div.sk-toggleable__content pre {margin: 0.2em;color: black;border-radius: 0.25em;background-color: #f0f8ff;}#sk-container-id-1 input.sk-toggleable__control:checked~div.sk-toggleable__content {max-height: 200px;max-width: 100%;overflow: auto;}#sk-container-id-1 input.sk-toggleable__control:checked~label.sk-toggleable__label-arrow:before {content: \"▾\";}#sk-container-id-1 div.sk-estimator input.sk-toggleable__control:checked~label.sk-toggleable__label {background-color: #d4ebff;}#sk-container-id-1 div.sk-label input.sk-toggleable__control:checked~label.sk-toggleable__label {background-color: #d4ebff;}#sk-container-id-1 input.sk-hidden--visually {border: 0;clip: rect(1px 1px 1px 1px);clip: rect(1px, 1px, 1px, 1px);height: 1px;margin: -1px;overflow: hidden;padding: 0;position: absolute;width: 1px;}#sk-container-id-1 div.sk-estimator {font-family: monospace;background-color: #f0f8ff;border: 1px dotted black;border-radius: 0.25em;box-sizing: border-box;margin-bottom: 0.5em;}#sk-container-id-1 div.sk-estimator:hover {background-color: #d4ebff;}#sk-container-id-1 div.sk-parallel-item::after {content: \"\";width: 100%;border-bottom: 1px solid gray;flex-grow: 1;}#sk-container-id-1 div.sk-label:hover label.sk-toggleable__label {background-color: #d4ebff;}#sk-container-id-1 div.sk-serial::before {content: \"\";position: absolute;border-left: 1px solid gray;box-sizing: border-box;top: 0;bottom: 0;left: 50%;z-index: 0;}#sk-container-id-1 div.sk-serial {display: flex;flex-direction: column;align-items: center;background-color: white;padding-right: 0.2em;padding-left: 0.2em;position: relative;}#sk-container-id-1 div.sk-item {position: relative;z-index: 1;}#sk-container-id-1 div.sk-parallel {display: flex;align-items: stretch;justify-content: center;background-color: white;position: relative;}#sk-container-id-1 div.sk-item::before, #sk-container-id-1 div.sk-parallel-item::before {content: \"\";position: absolute;border-left: 1px solid gray;box-sizing: border-box;top: 0;bottom: 0;left: 50%;z-index: -1;}#sk-container-id-1 div.sk-parallel-item {display: flex;flex-direction: column;z-index: 1;position: relative;background-color: white;}#sk-container-id-1 div.sk-parallel-item:first-child::after {align-self: flex-end;width: 50%;}#sk-container-id-1 div.sk-parallel-item:last-child::after {align-self: flex-start;width: 50%;}#sk-container-id-1 div.sk-parallel-item:only-child::after {width: 0;}#sk-container-id-1 div.sk-dashed-wrapped {border: 1px dashed gray;margin: 0 0.4em 0.5em 0.4em;box-sizing: border-box;padding-bottom: 0.4em;background-color: white;}#sk-container-id-1 div.sk-label label {font-family: monospace;font-weight: bold;display: inline-block;line-height: 1.2em;}#sk-container-id-1 div.sk-label-container {text-align: center;}#sk-container-id-1 div.sk-container {/* jupyter's `normalize.less` sets `[hidden] { display: none; }` but bootstrap.min.css set `[hidden] { display: none !important; }` so we also need the `!important` here to be able to override the default hidden behavior on the sphinx rendered scikit-learn.org. See: https://github.com/scikit-learn/scikit-learn/issues/21755 */display: inline-block !important;position: relative;}#sk-container-id-1 div.sk-text-repr-fallback {display: none;}</style><div id=\"sk-container-id-1\" class=\"sk-top-container\"><div class=\"sk-text-repr-fallback\"><pre>GaussianNB(priors=None, var_smoothing=1e-09)</pre><b>In a Jupyter environment, please rerun this cell to show the HTML representation or trust the notebook. <br />On GitHub, the HTML representation is unable to render, please try loading this page with nbviewer.org.</b></div><div class=\"sk-container\" hidden><div class=\"sk-item\"><div class=\"sk-estimator sk-toggleable\"><input class=\"sk-toggleable__control sk-hidden--visually\" id=\"sk-estimator-id-1\" type=\"checkbox\" checked><label for=\"sk-estimator-id-1\" class=\"sk-toggleable__label sk-toggleable__label-arrow\">GaussianNB</label><div class=\"sk-toggleable__content\"><pre>GaussianNB(priors=None, var_smoothing=1e-09)</pre></div></div></div></div></div>"
      ],
      "text/plain": [
       "GaussianNB(priors=None, var_smoothing=1e-09)"
      ]
     },
     "execution_count": 29,
     "metadata": {},
     "output_type": "execute_result"
    }
   ],
   "source": [
    "Best_model = compare_models(fold=3, sort='F1')\n",
    "Best_model"
   ]
  },
  {
   "cell_type": "code",
   "execution_count": 38,
   "id": "e87717aa-1f8a-444e-963f-2a26329f0389",
   "metadata": {},
   "outputs": [
    {
     "name": "stdout",
     "output_type": "stream",
     "text": [
      "Accuracy: 0.795872838817624\n",
      "              precision    recall  f1-score   support\n",
      "\n",
      "           0       0.85      0.88      0.86      1317\n",
      "           1       0.63      0.57      0.60       476\n",
      "\n",
      "    accuracy                           0.80      1793\n",
      "   macro avg       0.74      0.72      0.73      1793\n",
      "weighted avg       0.79      0.80      0.79      1793\n",
      "\n",
      "[[1156  161]\n",
      " [ 205  271]]\n"
     ]
    }
   ],
   "source": [
    "from sklearn.linear_model import LogisticRegression\n",
    "from sklearn.impute import SimpleImputer\n",
    "from sklearn.preprocessing import OneHotEncoder\n",
    "from sklearn.compose import ColumnTransformer\n",
    "from sklearn.pipeline import Pipeline\n",
    "\n",
    "from imblearn.over_sampling import SMOTE\n",
    "from imblearn.pipeline import Pipeline as ImbPipeline\n",
    "\n",
    "from sklearn.metrics import accuracy_score, classification_report, confusion_matrix\n",
    "\n",
    "# Logistic Regression Setup\n",
    "logi = LogisticRegression(C=1.0, dual=False, fit_intercept=True, intercept_scaling=1, \n",
    "                          max_iter=1000, multi_class='auto', penalty='l2', \n",
    "                          random_state=42, solver='lbfgs', tol=0.0001, \n",
    "                          verbose=0, class_weight='balanced')\n",
    "\n",
    "# Categorical and Numerical Features\n",
    "categorical_features = X.select_dtypes(include=['object']).columns\n",
    "numerical_features = X.select_dtypes(exclude=['object']).columns\n",
    "\n",
    "# Preprocessing Pipeline\n",
    "preprocessor = ColumnTransformer(\n",
    "    transformers=[\n",
    "        ('num', SimpleImputer(strategy='constant', fill_value=0), numerical_features),\n",
    "        ('cat', Pipeline([\n",
    "            ('imputer', SimpleImputer(strategy='constant', fill_value='missing')),\n",
    "            ('onehot', OneHotEncoder(handle_unknown='ignore'))\n",
    "        ]), categorical_features)\n",
    "    ])\n",
    "\n",
    "# Pipeline with SMOTE and Logistic Regression\n",
    "pipeline = ImbPipeline([\n",
    "    ('oversampling', SMOTE()),\n",
    "    ('preprocessor', preprocessor),\n",
    "    ('classifier', logi)\n",
    "])\n",
    "\n",
    "# Fit the Pipeline\n",
    "pipeline.fit(X_train, y_train)\n",
    "\n",
    "# Make Predictions and Evaluate\n",
    "y_pred = pipeline.predict(X_test)\n",
    "accuracy = accuracy_score(y_test, y_pred)\n",
    "print(\"Accuracy:\", accuracy)\n",
    "print(classification_report(y_test, y_pred))\n",
    "print(confusion_matrix(y_test, y_pred))\n"
   ]
  },
  {
   "cell_type": "code",
   "execution_count": null,
   "id": "4a5877e7-c6cf-416e-a0fc-ed41f848699e",
   "metadata": {},
   "outputs": [],
   "source": []
  },
  {
   "cell_type": "code",
   "execution_count": null,
   "id": "9d5be9b2-d179-4c16-85ed-0b12ebe2d041",
   "metadata": {},
   "outputs": [],
   "source": []
  },
  {
   "cell_type": "code",
   "execution_count": null,
   "id": "e6a47a03-37c7-4ee5-a701-36f6eb52e84c",
   "metadata": {},
   "outputs": [],
   "source": []
  },
  {
   "cell_type": "code",
   "execution_count": null,
   "id": "42336c79-6abf-459e-bf61-6bb216bb3101",
   "metadata": {},
   "outputs": [],
   "source": []
  },
  {
   "cell_type": "code",
   "execution_count": null,
   "id": "d948e57b-4008-409a-9bdc-cab96da26d88",
   "metadata": {},
   "outputs": [],
   "source": []
  }
 ],
 "metadata": {
  "kernelspec": {
   "display_name": "Python [conda env:consta_ml]",
   "language": "python",
   "name": "conda-env-consta_ml-py"
  },
  "language_info": {
   "codemirror_mode": {
    "name": "ipython",
    "version": 3
   },
   "file_extension": ".py",
   "mimetype": "text/x-python",
   "name": "python",
   "nbconvert_exporter": "python",
   "pygments_lexer": "ipython3",
   "version": "3.10.13"
  }
 },
 "nbformat": 4,
 "nbformat_minor": 5
}
