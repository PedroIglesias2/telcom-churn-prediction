{
 "cells": [
  {
   "cell_type": "markdown",
   "metadata": {
    "tags": []
   },
   "source": [
    "<a id='Q0'></a>\n",
    "<center><a target=\"_blank\" href=\"https://sit.academy/\"><img src=\"https://drive.google.com/uc?id=1z0U84GYqhbWWpCenFajh8_8XFRGyOc3U\" width=\"200\" style=\"background:none; border:none; box-shadow:none;\" /></a> </center>\n",
    "<center> <h1> Notebook #: Title of Notebook </h1> </center>\n",
    "<p style=\"margin-bottom:1cm;\"></p>\n",
    "<center><h4>SIT Academy, 2022</h4></center>\n",
    "<p style=\"margin-bottom:1cm;\"></p>\n",
    "\n",
    "<div style=\"background:#EEEDF5;border-top:0.1cm solid #EF475B;border-bottom:0.1cm solid #EF475B;\">\n",
    "    <div style=\"margin-left: 0.5cm;margin-top: 0.5cm;margin-bottom: 0.5cm;color:#303030\">\n",
    "        <p><strong>Goal:</strong> Short description of the aim of the notebook</p>\n",
    "        <strong> Outline:</strong>\n",
    "        <a id='P0' name=\"P0\"></a>\n",
    "        <ol>\n",
    "            <li> <a style=\"color:#303030\" href='#I'>Introduction </a> </li>\n",
    "            <li> <a style=\"color:#303030\" href='#SU'>Set up</a></li>\n",
    "            <li> <a style=\"color:#303030\" href='#P1'>Part 1</a></li>\n",
    "            <li> <a style=\"color:#303030\" href='#P2'>Part 2</a></li>\n",
    "            <li> <a style=\"color:#303030\" href='#P3'>Part 3</a></li>\n",
    "            <li> <a style=\"color:#303030\" href='#CL'>Conclusion</a></li>\n",
    "        </ol>\n",
    "        <strong>Keywords:</strong> data cleaning, NLP, ... list of keywords.\n",
    "    </div>\n",
    "</div>\n",
    "</nav>"
   ]
  },
  {
   "cell_type": "markdown",
   "metadata": {},
   "source": [
    "<a id='I' name=\"I\"></a>\n",
    "## [Introduction](#P0)"
   ]
  },
  {
   "cell_type": "markdown",
   "metadata": {},
   "source": [
    "Here you could write an introduction to the topics. Everything that is written here will appear in the live coding template notebook"
   ]
  },
  {
   "cell_type": "markdown",
   "metadata": {},
   "source": [
    "<a id='SU' name=\"SU\"></a>\n",
    "## [Set up](#P0)"
   ]
  },
  {
   "cell_type": "markdown",
   "metadata": {},
   "source": [
    "### Magics"
   ]
  },
  {
   "cell_type": "code",
   "execution_count": null,
   "metadata": {},
   "outputs": [],
   "source": [
    "# auto reload packages and modules when they are modified\n",
    "%load_ext autoreload\n",
    "%autoreload 2\n",
    "# draw matplotlib plots in line\n",
    "%matplotlib inline\n",
    "# enforce PEP 8 code on jupyter lab ...\n",
    "%load_ext lab_black\n",
    "# ... or jupyter notebook\n",
    "# %load_ext nb_black"
   ]
  },
  {
   "cell_type": "markdown",
   "metadata": {},
   "source": [
    "### Packages"
   ]
  },
  {
   "cell_type": "code",
   "execution_count": 1,
   "metadata": {
    "ExecuteTime": {
     "end_time": "2019-01-07T16:56:09.469904Z",
     "start_time": "2019-01-07T16:56:07.858398Z"
    }
   },
   "outputs": [],
   "source": [
    "# General\n",
    "import pandas as pd\n",
    "import numpy as np\n",
    "\n",
    "# modelling\n",
    "from sklearn.model_selection import train_test_split\n",
    "from sklearn.feature_extraction.text import CountVectorizer, TfidfTransformer, TfidfVectorizer\n",
    "\n",
    "# Visualization\n",
    "import seaborn as sns\n",
    "import matplotlib.pyplot as plt\n"
   ]
  },
  {
   "cell_type": "markdown",
   "metadata": {},
   "source": [
    "### Custom classes and functions"
   ]
  },
  {
   "cell_type": "code",
   "execution_count": 4,
   "metadata": {},
   "outputs": [],
   "source": [
    "import sys\n",
    "SCRIPT_DIR = \"../src\"\n",
    "sys.path.append(SCRIPT_DIR)"
   ]
  },
  {
   "cell_type": "code",
   "execution_count": 5,
   "metadata": {},
   "outputs": [],
   "source": [
    "from template_module import my_function_name"
   ]
  },
  {
   "cell_type": "markdown",
   "metadata": {},
   "source": [
    "### Global Parameters Setting"
   ]
  },
  {
   "cell_type": "code",
   "execution_count": 6,
   "metadata": {},
   "outputs": [],
   "source": [
    "plt.style.use(\"seaborn\")"
   ]
  },
  {
   "cell_type": "markdown",
   "metadata": {},
   "source": [
    "### User-Dependent Variables"
   ]
  },
  {
   "cell_type": "code",
   "execution_count": 1,
   "metadata": {},
   "outputs": [],
   "source": [
    "url_features = \".../data/train_features.csv\"  # path to data file"
   ]
  },
  {
   "cell_type": "markdown",
   "metadata": {},
   "source": [
    "<a id='P1'></a>\n",
    "## [Part one](#P0)\n",
    "\n",
    "Here you could write a paragraph on the aim of part one. You could also have some nice figures\n",
    "\n"
   ]
  },
  {
   "cell_type": "markdown",
   "metadata": {},
   "source": [
    "### Subsection 1\n",
    "\n",
    "This is a subsection. It can either be tagged as a hint, a solution or not tagged."
   ]
  },
  {
   "cell_type": "markdown",
   "metadata": {
    "tags": []
   },
   "source": [
    "<div style=\"background:#EEEDF5;color:#303030\"><div style=\"margin-left: .2cm\">\n",
    "    <b>Comments:</b>\n",
    "</div></div>\n",
    "\n",
    "<div style=\"margin-left: 0.4cm\">\n",
    "    This Markdown cell is a template to write extended comments. e.g. explain the approach taken, or concepts behind algorithm chosen. Aim at having 2 lines at least. Anything smaller can be directly integrated in the code, or gathered together with other comments to form a bigger paragraph. Since this block is within a div element, you need to use html formatting syntax, not markdown\n",
    "</div>"
   ]
  },
  {
   "cell_type": "markdown",
   "metadata": {
    "tags": []
   },
   "source": [
    "<div style=\"background:#EEEDF5;border:0.1cm solid #FDB100;color:#303030\">\n",
    "    <div style=\"margin: 0.2cm 0.2cm 0.2cm 0.2cm\">\n",
    "        <b style=\"color:#FDB100\">Title:</b> \n",
    "        This is a an example yellow box\n",
    "    </div>\n",
    "</div>"
   ]
  },
  {
   "cell_type": "markdown",
   "metadata": {
    "tags": []
   },
   "source": [
    "<div style=\"background:#EEEDF5;border:0.1cm solid #00BAE5;color:#303030\">\n",
    "    <div style=\"margin: 0.2cm 0.2cm 0.2cm 0.2cm\">\n",
    "        <b style=\"color:#00BAE5\">Note:</b>\n",
    "        This is an example Blue Box\n",
    "    </div>\n",
    "</div>"
   ]
  },
  {
   "cell_type": "markdown",
   "metadata": {},
   "source": [
    "<div style=\"background:#EEEDF5;border:0.1cm solid #EF475B;color:#303030\">\n",
    "    <div style=\"margin: 0.2cm 0.2cm 0.2cm 0.2cm\">\n",
    "        <b style=\"color:#EF475B\">Warning:</b> \n",
    "        This is an example red box\n",
    "    </div>\n",
    "</div>"
   ]
  },
  {
   "cell_type": "markdown",
   "metadata": {
    "tags": []
   },
   "source": [
    "<a id='P2' name=\"P2\"></a>\n",
    "## [Part 2 title here](#P0)"
   ]
  },
  {
   "cell_type": "markdown",
   "metadata": {},
   "source": [
    "<a id='P3' name=\"P3\"></a>\n",
    "## [Part 3 title here](#P0)"
   ]
  },
  {
   "cell_type": "markdown",
   "metadata": {
    "tags": []
   },
   "source": [
    "<a id='CL'></a>\n",
    "## [Conclusion](#P0)\n",
    "\n",
    "This is a pre-written conclusion in which we have nice figures."
   ]
  },
  {
   "cell_type": "markdown",
   "metadata": {},
   "source": [
    "<div style=\"border-top:0.1cm solid #EF475B\"></div>\n",
    "    <strong><a href='#Q0'><div style=\"text-align: right\"> <h3>End of this Notebook.</h3></div></a></strong>"
   ]
  }
 ],
 "metadata": {
  "kernelspec": {
   "display_name": "dst",
   "language": "python",
   "name": "dst"
  },
  "language_info": {
   "codemirror_mode": {
    "name": "ipython",
    "version": 3
   },
   "file_extension": ".py",
   "mimetype": "text/x-python",
   "name": "python",
   "nbconvert_exporter": "python",
   "pygments_lexer": "ipython3",
   "version": "3.8.5"
  }
 },
 "nbformat": 4,
 "nbformat_minor": 4
}
